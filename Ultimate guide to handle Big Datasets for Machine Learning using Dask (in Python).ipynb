{
 "cells": [
  {
   "cell_type": "code",
   "execution_count": null,
   "metadata": {},
   "outputs": [],
   "source": [
    "import dask.array as da    \n",
    "\n",
    "#using arange to create an array with values from 0 to 10\n",
    "X = da.arange(11, chunks=5)\n",
    "X.compute() \n",
    "array([0, 1, 2, 3, 4, 5, 6, 7, 8, 9,10])\n",
    "\n",
    "#to see size of each chunk\n",
    "X.chunks"
   ]
  },
  {
   "cell_type": "code",
   "execution_count": null,
   "metadata": {},
   "outputs": [],
   "source": [
    "import numpy as np\n",
    "import dask.array as da\n",
    "x = np.arange(10)\n",
    "y = da.from_array(x, chunks=5)\n",
    "y.compute() #results in a dask array\n",
    "\n",
    "array([0, 1, 2, 3, 4, 5, 6, 7, 8, 9])"
   ]
  },
  {
   "cell_type": "code",
   "execution_count": null,
   "metadata": {},
   "outputs": [],
   "source": [
    "import numpy as np\n",
    "import dask.array as da\n",
    "\n",
    "x = np.arange(1000)  #arange is used to create array on values from 0 to 1000\n",
    "y = da.from_array(x, chunks=(100))  #converting numpy array to dask array\n",
    "\n",
    "y.mean().compute()  #computing mean of the array"
   ]
  },
  {
   "cell_type": "code",
   "execution_count": null,
   "metadata": {},
   "outputs": [],
   "source": [
    "#reading the file using pandas\n",
    "import pandas as pd\n",
    "%time temp = pd.read_csv(\"balckfriday_train.csv\") "
   ]
  },
  {
   "cell_type": "code",
   "execution_count": null,
   "metadata": {},
   "outputs": [],
   "source": [
    "#reading the file using dask\n",
    "import dask.dataframe as dd\n",
    "%time df = dd.read_csv(\"balckfriday_train.csv\")"
   ]
  },
  {
   "cell_type": "code",
   "execution_count": null,
   "metadata": {},
   "outputs": [],
   "source": [
    " df.Gender.Value_counts().compute()"
   ]
  },
  {
   "cell_type": "code",
   "execution_count": null,
   "metadata": {},
   "outputs": [],
   "source": [
    "#finding maximum value of purchase for both genders\n",
    "\n",
    " df.groupby(df.Gender).Purchase.max().compute()"
   ]
  },
  {
   "cell_type": "code",
   "execution_count": null,
   "metadata": {},
   "outputs": [],
   "source": [
    "# Install with conda \n",
    "conda install -c conda-forge dask-ml\n",
    "\n",
    "# Install with pip \n",
    "pip install dask-ml"
   ]
  },
  {
   "cell_type": "code",
   "execution_count": null,
   "metadata": {},
   "outputs": [],
   "source": [
    "from dask.distributed import Client \n",
    "client = Client() # start a local Dask client"
   ]
  },
  {
   "cell_type": "code",
   "execution_count": null,
   "metadata": {},
   "outputs": [],
   "source": [
    "import dask_ml.joblib\n",
    "from sklearn.externals.joblib import parallel_backend\n",
    "with parallel_backend('dask'):\n",
    "    # Your normal scikit-learn code here\n",
    "     from sklearn.ensemble import RandomForestClassifier \n",
    "     model = RandomForestClassifier()"
   ]
  },
  {
   "cell_type": "code",
   "execution_count": null,
   "metadata": {},
   "outputs": [],
   "source": [
    "from dask_ml.linear_model import LogisticRegression\n",
    "\n",
    "model = LogisticRegression()\n",
    "model.fit(data, labels)"
   ]
  },
  {
   "cell_type": "code",
   "execution_count": null,
   "metadata": {},
   "outputs": [],
   "source": [
    "from dask_ml.preprocessing import OneHotEncoder\n",
    "\n",
    "encoder = OneHotEncoder(sparse=True)\n",
    "result = encoder.fit(data)"
   ]
  },
  {
   "cell_type": "code",
   "execution_count": null,
   "metadata": {},
   "outputs": [],
   "source": [
    "from dask_ml.cluster import KMeans\n",
    "model = KMeans()\n",
    "model.fit(data)"
   ]
  },
  {
   "cell_type": "code",
   "execution_count": null,
   "metadata": {},
   "outputs": [],
   "source": [
    "# Install with conda\n",
    "conda install dask-searchcv -c conda-forge\n",
    "\n",
    "# Install with pip\n",
    "pip install dask-searchcv"
   ]
  },
  {
   "cell_type": "code",
   "execution_count": null,
   "metadata": {},
   "outputs": [],
   "source": [
    "#reading the csv files\n",
    "import dask.dataframe as dd\n",
    "df = dd.read_csv('blackfriday_train.csv')\n",
    "test=dd.read_csv(\"blackfriday_test.csv\")\n",
    "\n",
    "#having a look at the head of the dataset\n",
    "df.head()\n",
    "\n",
    "#finding the null values in the dataset\n",
    "df.isnull().sum().compute()\n",
    "\n",
    "#defining the data and target\n",
    "categorical_variables = df[['Gender', 'Age', 'Occupation', 'City_Category', 'Stay_In_Current_City_Years', 'Marital_Status']]\n",
    "target = df['Purchase']\n",
    "\n",
    "#creating dummies for the categorical variables\n",
    "data = dd.get_dummies(categorical_variables.categorize()).compute()\n",
    "\n",
    "#converting dataframe to array\n",
    "datanew=data.values\n",
    "\n",
    "#fit the model\n",
    "from dask_ml.linear_model import LinearRegression\n",
    "lr = LinearRegression()\n",
    "lr.fit(datanew, target)"
   ]
  },
  {
   "cell_type": "code",
   "execution_count": null,
   "metadata": {},
   "outputs": [],
   "source": [
    "#preparing the test data\n",
    "test_categorical = test[['Gender', 'Age', 'Occupation', 'City_Category', 'Stay_In_Current_City_Years', 'Marital_Status']]\n",
    "test_dummy = dd.get_dummies(test_categorical.categorize()).compute()\n",
    "testnew = test_dummy.values\n",
    "\n",
    "#predict on test and upload\n",
    "pred=lr.predict(testnew)"
   ]
  },
  {
   "cell_type": "code",
   "execution_count": null,
   "metadata": {},
   "outputs": [],
   "source": [
    "from dask.distributed import Client\n",
    "client = Client() # start a local Dask client\n",
    "\n",
    "import dask_ml.joblib\n",
    "from sklearn.externals.joblib import parallel_backend\n",
    "with parallel_backend('dask'):\n",
    "\n",
    "    # Create the parameter grid based on the results of random search \n",
    "     param_grid = {\n",
    "    'bootstrap': [True],\n",
    "    'max_depth': [8, 9],\n",
    "    'max_features': [2, 3],\n",
    "    'min_samples_leaf': [4, 5],\n",
    "    'min_samples_split': [8, 10],\n",
    "    'n_estimators': [100, 200]\n",
    "    }\n",
    "\n",
    "    # Create a based model\n",
    "    from sklearn.ensemble import RandomForestRegressor\n",
    "    rf = RandomForestRegressor()"
   ]
  },
  {
   "cell_type": "code",
   "execution_count": null,
   "metadata": {},
   "outputs": [],
   "source": [
    "# Instantiate the grid search model\n",
    "import dask_searchcv as dcv\n",
    "grid_search = dcv.GridSearchCV(estimator = rf, param_grid = param_grid, cv = 3)\n",
    "grid_search.fit(data, target)\n",
    "grid_search.best_params_"
   ]
  }
 ],
 "metadata": {
  "kernelspec": {
   "display_name": "Python 3",
   "language": "python",
   "name": "python3"
  },
  "language_info": {
   "codemirror_mode": {
    "name": "ipython",
    "version": 3
   },
   "file_extension": ".py",
   "mimetype": "text/x-python",
   "name": "python",
   "nbconvert_exporter": "python",
   "pygments_lexer": "ipython3",
   "version": "3.7.3"
  }
 },
 "nbformat": 4,
 "nbformat_minor": 2
}
